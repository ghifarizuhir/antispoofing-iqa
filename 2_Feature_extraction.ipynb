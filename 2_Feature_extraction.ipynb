{
 "cells": [
  {
   "cell_type": "markdown",
   "metadata": {
    "id": "Qw-rWb_xGtf9"
   },
   "source": [
    "# Feature Extraction with Image Quality Assessment\n",
    "\n",
    "Program ini dijalankan menggunakan [Google Colab](https://colab.research.google.com)\n",
    "\n",
    "Program ini untuk memproses ekstraksi fitur dari hasil **Processing image**. Ekstraksi fitur ini menggunakan Image Quality Assessment. untuk implementasi perhitungan menggunakan [qualitymeasure](https://https://www.idiap.ch/software/bob/docs/bob/bob.ip.qualitymeasure/master/index.html) dari Bob Toolbox Machine Learning\n",
    "\n",
    "Pada proses kali ini menggunakan beberapa folder, masing-masing folder menunjukkan kelas, pada program kali ini menggunakan 5 folder.\n",
    "Hasil dari program ini akan menghasilkan 18 fitur dan akan disimpan dalam ekstensi **.csv**.\n",
    "\n",
    "Versi library yang digunakan saat pengerjaan\n",
    "\n",
    "> opencv : versi 4.1.2\n",
    "\n",
    "> numpy : versi 1.19.5\n",
    "\n",
    "> pandas : 1.1.5\n"
   ]
  },
  {
   "cell_type": "code",
   "execution_count": null,
   "metadata": {
    "id": "CZM2uK8mFkl8"
   },
   "outputs": [],
   "source": [
    "from google.colab import drive\n",
    "drive.mount('/content/drive')"
   ]
  },
  {
   "cell_type": "code",
   "execution_count": null,
   "metadata": {
    "id": "VmlnzOAJD9bh"
   },
   "outputs": [],
   "source": [
    "# install library bob terlebih dahulu\n",
    "import galbally_iqm_features as iqm\n",
    "\n",
    "import numpy as np\n",
    "import pandas as pd\n",
    "import cv2\n",
    "import os\n",
    "import time\n",
    "import PIL"
   ]
  },
  {
   "cell_type": "code",
   "execution_count": null,
   "metadata": {
    "id": "jBA6OioH3VSq"
   },
   "outputs": [],
   "source": [
    "!pip install --upgrade gupload\n",
    "\n",
    "from pydrive.auth import GoogleAuth\n",
    "from google.colab import auth\n",
    "\n",
    "auth.authenticate_user()"
   ]
  },
  {
   "cell_type": "code",
   "execution_count": null,
   "metadata": {
    "id": "n2PCS0vME1qw"
   },
   "outputs": [],
   "source": [
    "#18-Feature\n",
    "label = ['mse00', 'psnr01', 'ad02', 'sc03', 'nk04', 'md05',\n",
    "         'lmse06', 'nae07', 'snrv08', 'ramdv09', 'mas10', 'mams11',\n",
    "         'sme12', 'gme16', 'gpe17', 'ssim18', 'vif19', 'hlfi25']"
   ]
  },
  {
   "cell_type": "code",
   "execution_count": null,
   "metadata": {
    "id": "2w1Cq-PwgwzV"
   },
   "outputs": [],
   "source": [
    "def name_file(path):\n",
    "  txt_entries = sorted(os.listdir(path))\n",
    "  input_img = []\n",
    "  for i in range(len(txt_entries)):\n",
    "\n",
    "    path_txt = \"%s%s\"%(path, txt_entries[i])\n",
    "    in_img = cv2.imread(path_txt)\n",
    "    input_img.append(np.transpose(in_img))\n",
    "\n",
    "  return input_img, txt_entries"
   ]
  },
  {
   "cell_type": "code",
   "execution_count": null,
   "metadata": {
    "id": "Wxz4DaleE1qy"
   },
   "outputs": [],
   "source": [
    "def gallbaly_iqm(img):\n",
    "  ls_iqm = []\n",
    "  for i in range(len(img)):\n",
    "\n",
    "      start_time = time.time()\n",
    "      calc_iqm = iqm.compute_quality_features(img[i])\n",
    "      ls_iqm.append(calc_iqm)\n",
    "      print(\"image %d success in %d s\"%(i+1, (time.time() - start_time)))\n",
    "\n",
    "  return np.array(ls_iqm)"
   ]
  },
  {
   "cell_type": "code",
   "execution_count": null,
   "metadata": {
    "id": "FLpVZryHTgDG"
   },
   "outputs": [],
   "source": [
    "path = \"/content/drive/dataset/\""
   ]
  },
  {
   "cell_type": "code",
   "execution_count": null,
   "metadata": {
    "id": "IlqntEFAhCuV"
   },
   "outputs": [],
   "source": [
    "real = name_file(f\"{path}1_Real/\")\n",
    "paper1 = name_file(f\"{path}2_Paper/\")\n",
    "paper2 = name_file(f\"{path}3_Paper/\")\n",
    "replay1 = name_file(f\"{path}4_Replay/\")\n",
    "replay2 = name_file(f\"{path}5_Replay/\")"
   ]
  },
  {
   "cell_type": "code",
   "execution_count": null,
   "metadata": {
    "id": "4IOs_EgUE1qz"
   },
   "outputs": [],
   "source": [
    "iqm_real = gallbaly_iqm(real[0])\n",
    "iqm_paper1 = gallbaly_iqm(paper1[0])\n",
    "iqm_paper2 = gallbaly_iqm(paper2[0])\n",
    "iqm_replay1 = gallbaly_iqm(replay1[0])\n",
    "iqm_replay2 = gallbaly_iqm(replay2[0])"
   ]
  },
  {
   "cell_type": "code",
   "execution_count": null,
   "metadata": {
    "id": "PgRX8aMeE1q0"
   },
   "outputs": [],
   "source": [
    "df_real = pd.DataFrame(data=iqm_real, columns = label)\n",
    "df_real[\"class\"] = \"real\"\n",
    "df_real[\"name_file\"] = real[1]\n",
    "\n",
    "df_paper1 = pd.DataFrame(data=iqm_paper1, columns = label)\n",
    "df_paper1[\"class\"] = \"paper\"\n",
    "df_paper1[\"name_file\"] = paper1[1]\n",
    "\n",
    "df_paper2 = pd.DataFrame(data=iqm_paper2, columns = label)\n",
    "df_paper2[\"class\"] = \"paper\"\n",
    "df_paper2[\"name_file\"] = paper2[1]\n",
    "\n",
    "df_replay1 = pd.DataFrame(data=iqm_replay1, columns = label)\n",
    "df_replay1[\"class\"] = \"replay\"\n",
    "df_replay1[\"name_file\"] = replay1[1]\n",
    "\n",
    "df_replay2 = pd.DataFrame(data=iqm_replay2, columns = label)\n",
    "df_replay2[\"class\"] = \"replay\"\n",
    "df_replay2[\"name_file\"] = replay2[1]"
   ]
  },
  {
   "cell_type": "code",
   "execution_count": null,
   "metadata": {
    "id": "yT6gP4U_jD7W"
   },
   "outputs": [],
   "source": [
    "df = pd.concat([df_real, df_paper1, df_paper2, df_replay1, df_replay2], ignore_index=True)"
   ]
  },
  {
   "cell_type": "code",
   "execution_count": null,
   "metadata": {
    "id": "JwHNZs85_dok"
   },
   "outputs": [],
   "source": [
    "dev_list = []\n",
    "for i in range(len(df_pred)):\n",
    "  val = df_pred[\"name_file\"][i][0]\n",
    "  dev_list.append(val)\n",
    "df['device'] = dev_list\n",
    "\n",
    "session_list = []\n",
    "for i in range(len(df_pred)):\n",
    "  val = df_pred[\"name_file\"][i][2]\n",
    "  session_list.append(val)\n",
    "df['session'] = session_list"
   ]
  },
  {
   "cell_type": "code",
   "execution_count": null,
   "metadata": {
    "id": "Ty6od16XlP08"
   },
   "outputs": [],
   "source": [
    "df.to_csv(\"dataset_iqa.csv\", index=False)"
   ]
  },
  {
   "cell_type": "code",
   "execution_count": null,
   "metadata": {
    "id": "5rhe1jWA6MqF"
   },
   "outputs": [],
   "source": [
    "# copy link folder pada google drive untuk menyimpan hasil output\n",
    "# https://drive.google.com/drive/folders/1hHufEfsdasdPHcPfqZ_PZiEIhal?usp=sharing\n",
    "\n",
    "\n",
    "!gupload --to '1hHufEfsdasdPHcPfqZ_PZiEIhal' dataset_iqa.jpg"
   ]
  }
 ],
 "metadata": {
  "colab": {
   "collapsed_sections": [],
   "name": "Feature_extraction.ipynb",
   "provenance": []
  },
  "kernelspec": {
   "display_name": "Python 3",
   "language": "python",
   "name": "python3"
  },
  "language_info": {
   "codemirror_mode": {
    "name": "ipython",
    "version": 3
   },
   "file_extension": ".py",
   "mimetype": "text/x-python",
   "name": "python",
   "nbconvert_exporter": "python",
   "pygments_lexer": "ipython3",
   "version": "3.8.3"
  },
  "toc": {
   "base_numbering": 1,
   "nav_menu": {},
   "number_sections": true,
   "sideBar": true,
   "skip_h1_title": false,
   "title_cell": "Table of Contents",
   "title_sidebar": "Contents",
   "toc_cell": false,
   "toc_position": {},
   "toc_section_display": true,
   "toc_window_display": false
  }
 },
 "nbformat": 4,
 "nbformat_minor": 1
}
