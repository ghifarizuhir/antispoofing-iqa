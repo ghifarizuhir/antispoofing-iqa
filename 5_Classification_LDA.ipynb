{
 "cells": [
  {
   "cell_type": "markdown",
   "metadata": {
    "id": "oXej2EAfcM0q"
   },
   "source": [
    "# Classification with LDA\n",
    "\n",
    "Program ini dijalankan menggunakan [Google Colab](https://colab.research.google.com)\n",
    "\n",
    "Input yang digunakan pada program ini merupakan file dengan deskripsi 18 kolom fitur Image Quality Assessment dan 1 kolom kelas dengan ekstensi **.csv**\n",
    "\n",
    "fitur tercantum pada [qualitymeasure](https://https://www.idiap.ch/software/bob/docs/bob/bob.ip.qualitymeasure/master/index.html) dari Bob Toolbox Machine Learning\n",
    "\n",
    "Versi library yang digunakan saat pengerjaan\n",
    "\n",
    "> numpy versi 1.19.5\n",
    "\n",
    "> pandas versi 1.1.5\n",
    "\n",
    "> matplotlib versi 3.2.2\n",
    "\n",
    "> scikit-learn versi 0.22.2"
   ]
  },
  {
   "cell_type": "code",
   "execution_count": null,
   "metadata": {
    "id": "85BXr_h_PMpZ"
   },
   "outputs": [],
   "source": [
    "from google.colab import drive\n",
    "drive.mount(\"/content/drive\")"
   ]
  },
  {
   "cell_type": "code",
   "execution_count": null,
   "metadata": {
    "id": "MhVoeeP1Osca"
   },
   "outputs": [],
   "source": [
    "import pandas as pd\n",
    "import numpy as np\n",
    "import matplotlib.pyplot as plt\n",
    "from google.colab import files\n",
    "\n",
    "from sklearn.discriminant_analysis import LinearDiscriminantAnalysis\n",
    "from sklearn.preprocessing import StandardScaler\n",
    "from sklearn.metrics import plot_confusion_matrix, classification_report, confusion_matrix\n",
    "from sklearn.feature_selection import SelectKBest, f_classif"
   ]
  },
  {
   "cell_type": "code",
   "execution_count": null,
   "metadata": {
    "id": "tY0bUq_EGFEY"
   },
   "outputs": [],
   "source": [
    "#18-Feature\n",
    "label18 = ['mse00', 'psnr01', 'ad02', 'sc03', 'nk04', 'md05',\n",
    "         'lmse06', 'nae07', 'snrv08', 'ramdv09', 'mas10', 'mams11',\n",
    "         'sme12', 'gme16', 'gpe17', 'ssim18', 'vif19', 'hlfi25','class']"
   ]
  },
  {
   "cell_type": "code",
   "execution_count": null,
   "metadata": {
    "id": "qnTd0NxkQP0d"
   },
   "outputs": [],
   "source": [
    "df = pd.read_csv(\"/content/drive/MyDrive/MBKM Riset/Antispoofing IQA/Dataset/dataset_iqa_3.csv\")"
   ]
  },
  {
   "cell_type": "code",
   "execution_count": null,
   "metadata": {
    "id": "gj7vT0RqQmkn"
   },
   "outputs": [],
   "source": [
    "df_train = df[label18].loc[(df.session != 3)]\n",
    "df_test = df[label18].loc[(df.session == 3)]"
   ]
  },
  {
   "cell_type": "code",
   "execution_count": null,
   "metadata": {
    "id": "HP4YBC3qREFu"
   },
   "outputs": [],
   "source": [
    "train =  df_train.copy()\n",
    "test = df_test.copy()"
   ]
  },
  {
   "cell_type": "code",
   "execution_count": null,
   "metadata": {
    "id": "JHzx4k-IehMZ"
   },
   "outputs": [],
   "source": [
    "encode_map = {\"real\":0,\n",
    "              \"paper\":1,\n",
    "              \"replay\":1}\n",
    "\n",
    "train['class'].replace(encode_map, inplace=True)\n",
    "test['class'].replace(encode_map, inplace=True)"
   ]
  },
  {
   "cell_type": "code",
   "execution_count": null,
   "metadata": {
    "id": "CWoBOdlfl6C5"
   },
   "outputs": [],
   "source": [
    "X_train, y_train = train.iloc[:,:18], train.iloc[:,-1]\n",
    "X_test, y_test = test.iloc[:,:18], test.iloc[:,-1]"
   ]
  },
  {
   "cell_type": "code",
   "execution_count": null,
   "metadata": {
    "id": "tdGdLjUyFhjB"
   },
   "outputs": [],
   "source": [
    "y_index = np.array(y_test.index)\n",
    "\n",
    "X_train, y_train = np.array(X_train), np.array(y_train)\n",
    "X_test, y_test = np.array(X_test), np.array(y_test)"
   ]
  },
  {
   "cell_type": "code",
   "execution_count": null,
   "metadata": {
    "id": "vRdUXLwbnZ3C"
   },
   "outputs": [],
   "source": [
    "sc = StandardScaler()\n",
    "X_train_sc = sc.fit_transform(X_train)\n",
    "X_test_sc = sc.transform(X_test)"
   ]
  },
  {
   "cell_type": "code",
   "execution_count": null,
   "metadata": {
    "id": "hwF2Fj_eaBzJ"
   },
   "outputs": [],
   "source": [
    "K=18 #nilai jumlah fitur yang akan digunakan\n",
    "bestfeatures = SelectKBest(score_func=f_classif, k= K)\n",
    "best = bestfeatures.fit(X_train, y_train)\n",
    "X_train_fs = bestfeatures.transform(X_train_sc)\n",
    "X_test_fs = bestfeatures.transform(X_test_sc)"
   ]
  },
  {
   "cell_type": "code",
   "execution_count": null,
   "metadata": {
    "id": "pctefR_yb46i"
   },
   "outputs": [],
   "source": [
    "#menampilkan skor dari f_classif (Anova-F)\n",
    "dfscores = pd.DataFrame(best.scores_)\n",
    "dfcolumns = pd.DataFrame(label18)\n",
    " \n",
    "featureScores = pd.concat([dfcolumns,dfscores],axis=1)\n",
    "featureScores.columns = ['Specs','Score']\n",
    "print(featureScores.nlargest(18,'Score'))"
   ]
  },
  {
   "cell_type": "code",
   "execution_count": null,
   "metadata": {
    "id": "XhF4nAGzl4Zu"
   },
   "outputs": [],
   "source": [
    "lda = LinearDiscriminantAnalysis(n_components = 1)\n",
    "lda.fit_transform(X_train_fs, y_train)"
   ]
  },
  {
   "cell_type": "code",
   "execution_count": null,
   "metadata": {
    "id": "TgQWNaKJGbHX"
   },
   "outputs": [],
   "source": [
    "y_pred = lda.predict(X_test_fs)"
   ]
  },
  {
   "cell_type": "code",
   "execution_count": null,
   "metadata": {
    "colab": {
     "base_uri": "https://localhost:8080/"
    },
    "id": "gsmsD3o3Ge_X",
    "outputId": "5bb66458-e9b9-4674-ae4b-dfd1264e023d"
   },
   "outputs": [
    {
     "name": "stdout",
     "output_type": "stream",
     "text": [
      "Linear Discriminant 18 fitur\n",
      "              precision    recall  f1-score   support\n",
      "\n",
      "           0       0.64      0.29      0.40       120\n",
      "           1       0.84      0.96      0.90       480\n",
      "\n",
      "    accuracy                           0.82       600\n",
      "   macro avg       0.74      0.62      0.65       600\n",
      "weighted avg       0.80      0.82      0.80       600\n",
      "\n"
     ]
    }
   ],
   "source": [
    "print(f'Linear Discriminant {K} fitur')\n",
    "print(classification_report(y_test, y_pred))"
   ]
  },
  {
   "cell_type": "code",
   "execution_count": null,
   "metadata": {
    "colab": {
     "base_uri": "https://localhost:8080/",
     "height": 299
    },
    "id": "Ad3wlFvTHTjg",
    "outputId": "e13fe0bc-3130-4a42-a2f0-5df69afa40bb"
   },
   "outputs": [
    {
     "data": {
      "application/javascript": [
       "\n",
       "    async function download(id, filename, size) {\n",
       "      if (!google.colab.kernel.accessAllowed) {\n",
       "        return;\n",
       "      }\n",
       "      const div = document.createElement('div');\n",
       "      const label = document.createElement('label');\n",
       "      label.textContent = `Downloading \"${filename}\": `;\n",
       "      div.appendChild(label);\n",
       "      const progress = document.createElement('progress');\n",
       "      progress.max = size;\n",
       "      div.appendChild(progress);\n",
       "      document.body.appendChild(div);\n",
       "\n",
       "      const buffers = [];\n",
       "      let downloaded = 0;\n",
       "\n",
       "      const channel = await google.colab.kernel.comms.open(id);\n",
       "      // Send a message to notify the kernel that we're ready.\n",
       "      channel.send({})\n",
       "\n",
       "      for await (const message of channel.messages) {\n",
       "        // Send a message to notify the kernel that we're ready.\n",
       "        channel.send({})\n",
       "        if (message.buffers) {\n",
       "          for (const buffer of message.buffers) {\n",
       "            buffers.push(buffer);\n",
       "            downloaded += buffer.byteLength;\n",
       "            progress.value = downloaded;\n",
       "          }\n",
       "        }\n",
       "      }\n",
       "      const blob = new Blob(buffers, {type: 'application/binary'});\n",
       "      const a = document.createElement('a');\n",
       "      a.href = window.URL.createObjectURL(blob);\n",
       "      a.download = filename;\n",
       "      div.appendChild(a);\n",
       "      a.click();\n",
       "      div.remove();\n",
       "    }\n",
       "  "
      ],
      "text/plain": [
       "<IPython.core.display.Javascript object>"
      ]
     },
     "metadata": {
      "tags": []
     },
     "output_type": "display_data"
    },
    {
     "data": {
      "application/javascript": [
       "download(\"download_185375b5-60f5-4695-8648-50520a7541ef\", \"LDA 18 Fitur.png\", 10516)"
      ],
      "text/plain": [
       "<IPython.core.display.Javascript object>"
      ]
     },
     "metadata": {
      "tags": []
     },
     "output_type": "display_data"
    },
    {
     "data": {
      "image/png": "[encoded data removed]",
      "text/plain": [
       "<Figure size 432x288 with 1 Axes>"
      ]
     },
     "metadata": {
      "needs_background": "light",
      "tags": []
     },
     "output_type": "display_data"
    }
   ],
   "source": [
    "import seaborn as sns\n",
    "\n",
    "ax= plt.subplot()\n",
    "sns.set(font_scale=1.4)\n",
    "sns.heatmap(np.array(confusion_matrix(y_test, y_pred)),\n",
    "            annot=True, fmt=\"d\", cbar =False, cmap=\"YlGnBu\")\n",
    "\n",
    "tl = f'LDA {K} Fitur'\n",
    "ax.set_xlabel('Predicted labels');ax.set_ylabel('True labels'); \n",
    "ax.xaxis.set_ticklabels(['real', 'attack']); ax.yaxis.set_ticklabels(['real', 'attack'])\n",
    "plt.title(tl)\n",
    "\n",
    "plt.savefig(f\"{tl}.png\")\n",
    "files.download(f\"{tl}.png\") "
   ]
  },
  {
   "cell_type": "markdown",
   "metadata": {
    "id": "SWapfB09cJh6"
   },
   "source": [
    "## Error Analysis"
   ]
  },
  {
   "cell_type": "code",
   "execution_count": null,
   "metadata": {
    "id": "LTFoFGRqVp1-"
   },
   "outputs": [],
   "source": [
    "diff_list, diff_index = [], []\n",
    "for i in range(len(y_test)):\n",
    "  if y_test[i] == y_pred[i]: \n",
    "    diff_list.append(True)\n",
    "  else:\n",
    "    diff_index.append(i)\n",
    "    diff_list.append(False)"
   ]
  },
  {
   "cell_type": "code",
   "execution_count": null,
   "metadata": {
    "id": "ya9Ddk1ODBSZ"
   },
   "outputs": [],
   "source": [
    "df_err = df_test.iloc[diff_index, :]"
   ]
  },
  {
   "cell_type": "code",
   "execution_count": null,
   "metadata": {
    "id": "1V8lDlW4G575"
   },
   "outputs": [],
   "source": [
    "df_error = df.iloc[df_err.index,:]"
   ]
  },
  {
   "cell_type": "code",
   "execution_count": null,
   "metadata": {
    "id": "5yboB8cCSxli"
   },
   "outputs": [],
   "source": [
    "df_error.to_csv(\"error_lda.csv\")"
   ]
  }
 ],
 "metadata": {
  "colab": {
   "collapsed_sections": [],
   "name": "Classification_LDA.ipynb",
   "provenance": []
  },
  "kernelspec": {
   "display_name": "Python 3",
   "language": "python",
   "name": "python3"
  },
  "language_info": {
   "codemirror_mode": {
    "name": "ipython",
    "version": 3
   },
   "file_extension": ".py",
   "mimetype": "text/x-python",
   "name": "python",
   "nbconvert_exporter": "python",
   "pygments_lexer": "ipython3",
   "version": "3.8.3"
  },
  "toc": {
   "base_numbering": 1,
   "nav_menu": {},
   "number_sections": true,
   "sideBar": true,
   "skip_h1_title": false,
   "title_cell": "Table of Contents",
   "title_sidebar": "Contents",
   "toc_cell": false,
   "toc_position": {},
   "toc_section_display": true,
   "toc_window_display": false
  }
 },
 "nbformat": 4,
 "nbformat_minor": 1
}
