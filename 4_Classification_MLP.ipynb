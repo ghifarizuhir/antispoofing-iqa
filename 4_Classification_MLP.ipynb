{
 "cells": [
  {
   "cell_type": "markdown",
   "id": "f21b80ae",
   "metadata": {
    "id": "jsWPgZRnWqss"
   },
   "source": [
    "# Classification with MLP\n",
    "\n",
    "Program ini dijalankan menggunakan [Google Colab](https://colab.research.google.com)\n",
    "\n",
    "Input yang digunakan pada program ini merupakan file dengan deskripsi 18 kolom fitur Image Quality Assessment dan 1 kolom kelas dengan ekstensi **.csv**\n",
    "\n",
    "fitur tercantum pada [qualitymeasure](https://https://www.idiap.ch/software/bob/docs/bob/bob.ip.qualitymeasure/master/index.html) dari Bob Toolbox Machine Learning\n",
    "\n",
    "pada program ini menggunakan [earlystopping from pytorchtools](https://github.com/Bjarten/early-stopping-pytorch) untuk menghentikan iterasi saat nilai validation loss naik\n",
    "\n",
    "Versi library yang digunakan saat pengerjaan\n",
    "\n",
    "> numpy : versi 1.19.5\n",
    "\n",
    "> pandas : 1.1.5\n",
    "\n",
    "> seaborn versi 0.11.1\n",
    "\n",
    "> pyTorch versi 1.9.0\n",
    "\n",
    "> scikit-learn versi 0.22.2\n"
   ]
  },
  {
   "cell_type": "code",
   "execution_count": null,
   "id": "b4e7f10f",
   "metadata": {
    "id": "LAhUvc_d1fDu"
   },
   "outputs": [],
   "source": [
    "from google.colab import drive\n",
    "drive.mount('/content/drive')"
   ]
  },
  {
   "cell_type": "code",
   "execution_count": 4,
   "id": "a10078f3",
   "metadata": {
    "id": "cb99fe0c"
   },
   "outputs": [],
   "source": [
    "#from pytorchtools import EarlyStopping\n",
    "\n",
    "import numpy as np\n",
    "import pandas as pd\n",
    "import seaborn as sns\n",
    "import matplotlib.pyplot as plt\n",
    "from tqdm.notebook import tqdm\n",
    "from google.colab import files\n",
    "\n",
    "import torch\n",
    "import torch.nn as nn\n",
    "import torch.optim as optim\n",
    "from torch.utils.data import Dataset, DataLoader, random_split, WeightedRandomSampler\n",
    "\n",
    "from sklearn.preprocessing import StandardScaler\n",
    "from sklearn.feature_selection import SelectKBest, f_classif\n",
    "from sklearn.model_selection import train_test_split\n",
    "from sklearn.metrics import confusion_matrix, classification_report"
   ]
  },
  {
   "cell_type": "code",
   "execution_count": null,
   "id": "39e72242",
   "metadata": {
    "id": "gJgyq3dIUOQj"
   },
   "outputs": [],
   "source": [
    "def get_class_distribution(obj):\n",
    "  count_dict = {\"real\" : 0,\n",
    "                \"attack\" : 0}\n",
    "  for i in obj:\n",
    "    if i == 0 :\n",
    "      count_dict[\"real\"] += 1\n",
    "    elif i == 1:\n",
    "      count_dict[\"attack\"] += 1\n",
    "    else:\n",
    "      print(\"Check classes.\")\n",
    "  return count_dict"
   ]
  },
  {
   "cell_type": "code",
   "execution_count": null,
   "id": "2df6ecc6",
   "metadata": {
    "id": "3QWzlbyjZjKD"
   },
   "outputs": [],
   "source": [
    "def binary_acc(y_pred, y_test):\n",
    "    y_pred_tag = torch.round(torch.sigmoid(y_pred))\n",
    "\n",
    "    correct_results_sum = (y_pred_tag == y_test).sum().float()\n",
    "    acc = correct_results_sum/y_test.shape[0]\n",
    "    acc = torch.round(acc * 100)\n",
    "    \n",
    "    return acc"
   ]
  },
  {
   "cell_type": "code",
   "execution_count": 1,
   "id": "6e731d73",
   "metadata": {
    "id": "a38er6ZmBPUo"
   },
   "outputs": [],
   "source": [
    "#18-Feature\n",
    "label18 = ['mse00', 'psnr01', 'ad02', 'sc03', 'nk04', 'md05',\n",
    "         'lmse06', 'nae07', 'snrv08', 'ramdv09', 'mas10', 'mams11',\n",
    "         'sme12', 'gme16', 'gpe17', 'ssim18', 'vif19', 'hlfi25','class']"
   ]
  },
  {
   "cell_type": "code",
   "execution_count": null,
   "id": "65f87b1a",
   "metadata": {
    "id": "IF4qvUcvEOXm"
   },
   "outputs": [],
   "source": [
    "df = pd.read_csv(\"/content/drive/dataset.csv\")"
   ]
  },
  {
   "cell_type": "code",
   "execution_count": null,
   "id": "425f53dc",
   "metadata": {
    "id": "MFkGf505FSpW"
   },
   "outputs": [],
   "source": [
    "df_train = df[label18].loc[(df.session != 3)]\n",
    "df_test = df[label18].loc[(df.session == 3)]\n",
    "df_for_error = df.loc[(df.session == 3)]"
   ]
  },
  {
   "cell_type": "code",
   "execution_count": null,
   "id": "6d11b5f4",
   "metadata": {
    "id": "JJ-wPTd17cXm"
   },
   "outputs": [],
   "source": [
    "train =  df_train.copy()\n",
    "test = df_test.copy()"
   ]
  },
  {
   "cell_type": "code",
   "execution_count": null,
   "id": "4e57d17e",
   "metadata": {
    "id": "LpinEWizALqW"
   },
   "outputs": [],
   "source": [
    "encode_map = {\"real\":0,\n",
    "              \"paper\":1,\n",
    "              \"replay\":1}\n",
    "\n",
    "train['class'].replace(encode_map, inplace=True)\n",
    "test['class'].replace(encode_map, inplace=True)"
   ]
  },
  {
   "cell_type": "code",
   "execution_count": null,
   "id": "38646b7f",
   "metadata": {
    "id": "7733f107"
   },
   "outputs": [],
   "source": [
    "train_value, train_class = train.iloc[:,:18], train.iloc[:,-1]\n",
    "X_train, X_val, y_train, y_val = train_test_split(train_value, np.array(train_class),\n",
    "                                                  test_size=0.1, stratify=train_class,\n",
    "                                                  random_state=101)\n",
    "X_test, y_test = test.iloc[:,:18], test.iloc[:,-1]"
   ]
  },
  {
   "cell_type": "code",
   "execution_count": null,
   "id": "a46b1b29",
   "metadata": {
    "id": "dBRLs1_EOxoj"
   },
   "outputs": [],
   "source": [
    "y_index = np.array(y_test.index)\n",
    "\n",
    "X_train, y_train = np.array(X_train), np.array(y_train)\n",
    "X_val, y_val = np.array(X_val), np.array(y_val)\n",
    "X_test, y_test = np.array(X_test), np.array(y_test)"
   ]
  },
  {
   "cell_type": "code",
   "execution_count": null,
   "id": "bde055c0",
   "metadata": {
    "id": "8bafa819"
   },
   "outputs": [],
   "source": [
    "# Feature scaling\n",
    "scaler = StandardScaler()\n",
    "X_train_sc = scaler.fit_transform(X_train)\n",
    "X_val_sc = scaler.transform(X_val)\n",
    "X_test_sc = scaler.transform(X_test)"
   ]
  },
  {
   "cell_type": "code",
   "execution_count": null,
   "id": "a25e3f9a",
   "metadata": {
    "id": "lbfzl3ShAVk7"
   },
   "outputs": [],
   "source": [
    "scaler.mean_"
   ]
  },
  {
   "cell_type": "code",
   "execution_count": null,
   "id": "047af2f4",
   "metadata": {
    "id": "xq9ep3hqAWuX"
   },
   "outputs": [],
   "source": [
    "scaler.scale_"
   ]
  },
  {
   "cell_type": "code",
   "execution_count": null,
   "id": "d7a9aab7",
   "metadata": {
    "id": "xGI77joF5Duf"
   },
   "outputs": [],
   "source": [
    "bestfeatures = SelectKBest(score_func=f_classif, k= 18)\n",
    "best = bestfeatures.fit(X_train, y_train)\n",
    "X_train_fs = bestfeatures.transform(X_train_sc)\n",
    "X_test_fs = bestfeatures.transform(X_test_sc)\n",
    "X_val_fs = bestfeatures.transform(X_val_sc)"
   ]
  },
  {
   "cell_type": "code",
   "execution_count": null,
   "id": "42531d5a",
   "metadata": {
    "id": "gJR81DSUawfa"
   },
   "outputs": [],
   "source": [
    "#menampilkan skor dari f_classif (Anova-F)\n",
    "dfscores = pd.DataFrame(best.scores_)\n",
    "dfcolumns = pd.DataFrame(label18)\n",
    "\n",
    "featureScores = pd.concat([dfcolumns,dfscores],axis=1)\n",
    "featureScores.columns = ['Feature','Score']\n",
    "print(featureScores.nlargest(18,'Score'))"
   ]
  },
  {
   "cell_type": "code",
   "execution_count": null,
   "id": "a7e00508",
   "metadata": {
    "id": "d1d523bd"
   },
   "outputs": [],
   "source": [
    "#membuat loader dataset custom untuk masukan torch\n",
    "\n",
    "class ClassifierDataset(Dataset):\n",
    "\n",
    "  def __init__(self, X_data, y_data):\n",
    "    self.X_data = X_data\n",
    "    self.y_data = y_data\n",
    "  \n",
    "  def __getitem__(self, index):\n",
    "    return self.X_data[index], self.y_data[index]\n",
    "\n",
    "  def __len__ (self):\n",
    "    return len(self.X_data)"
   ]
  },
  {
   "cell_type": "code",
   "execution_count": null,
   "id": "52ac8b38",
   "metadata": {
    "id": "3gm3e4hsWM1d"
   },
   "outputs": [],
   "source": [
    "train_dataset = ClassifierDataset(torch.from_numpy(X_train_fs).float(), torch.from_numpy(y_train))\n",
    "val_dataset = ClassifierDataset(torch.from_numpy(X_val_fs).float(), torch.from_numpy(y_val))\n",
    "test_dataset = ClassifierDataset(torch.from_numpy(X_test_fs).float(), torch.from_numpy(y_test))"
   ]
  },
  {
   "cell_type": "code",
   "execution_count": null,
   "id": "c50d79eb",
   "metadata": {
    "id": "YVdvt1_JWPx5"
   },
   "outputs": [],
   "source": [
    "target_list = []\n",
    "for _, t in train_dataset:\n",
    "    target_list.append(t)\n",
    "    \n",
    "target_list = torch.tensor(target_list)\n",
    "target_list = target_list[torch.randperm(len(target_list))]\n",
    "\n",
    "class_count = [i for i in get_class_distribution(y_train).values()]\n",
    "class_weights = 1./torch.tensor(class_count, dtype=torch.long)\n",
    "print(class_weights)\n",
    "\n",
    "class_weights_all = class_weights[target_list]\n",
    "\n",
    "weighted_sampler = WeightedRandomSampler(weights=class_weights_all,\n",
    "                                         num_samples=len(class_weights_all),\n",
    "                                         replacement=True)"
   ]
  },
  {
   "cell_type": "code",
   "execution_count": null,
   "id": "5b05b5e1",
   "metadata": {
    "id": "MNCQlW7yUfzO"
   },
   "outputs": [],
   "source": [
    "EPOCHS = 300\n",
    "BATCH_SIZE = 200\n",
    "LEARNING_RATE = 0.0007\n",
    "\n",
    "NUM_FEATURES = len(X_train_fs[0])\n",
    "\n",
    "train_loader = DataLoader(dataset=train_dataset, batch_size=BATCH_SIZE, sampler=weighted_sampler)\n",
    "val_loader = DataLoader(dataset=val_dataset, batch_size=1)\n",
    "test_loader = DataLoader(dataset=test_dataset, batch_size=1)"
   ]
  },
  {
   "cell_type": "code",
   "execution_count": null,
   "id": "6be5caf6",
   "metadata": {
    "id": "2a9fc601"
   },
   "outputs": [],
   "source": [
    "class binaryClassification(nn.Module):\n",
    "    def __init__(self, num_features):\n",
    "        super(binaryClassification, self).__init__()\n",
    "        self.layer_1 = nn.Linear(num_features, 60) \n",
    "        self.layer_2 = nn.Linear(60, 45)\n",
    "        self.layer_3 = nn.Linear(45, 32)\n",
    "        self.layer_out = nn.Linear(32, 1)\n",
    "        \n",
    "        self.relu = nn.ReLU()\n",
    "        \n",
    "    def forward(self, inputs):\n",
    "        x = self.relu(self.layer_1(inputs))\n",
    "        x = self.relu(self.layer_2(x))\n",
    "        x = self.relu(self.layer_3(x))\n",
    "\n",
    "        x = self.layer_out(x)\n",
    "        \n",
    "        return x"
   ]
  },
  {
   "cell_type": "code",
   "execution_count": null,
   "id": "43b8f0d7",
   "metadata": {
    "id": "I1LjJux0WVNp"
   },
   "outputs": [],
   "source": [
    "device = torch.device(\"cuda:0\" if torch.cuda.is_available() else \"cpu\")\n",
    "\n",
    "model = binaryClassification(num_features=NUM_FEATURES)\n",
    "model.to(device)\n",
    "\n",
    "print(device)\n",
    "print(model)\n",
    "\n",
    "criterion = nn.BCEWithLogitsLoss()\n",
    "optimizer = optim.Adam(model.parameters(), lr=LEARNING_RATE)"
   ]
  },
  {
   "cell_type": "code",
   "execution_count": null,
   "id": "71fe1aaf",
   "metadata": {
    "id": "e8VPrRITWf8J"
   },
   "outputs": [],
   "source": [
    "accuracy_stats = {\"train\": [],\n",
    "                  \"val\": []}\n",
    "\n",
    "loss_stats = {\"train\": [],\n",
    "              \"val\": []}"
   ]
  },
  {
   "cell_type": "markdown",
   "id": "6d060467",
   "metadata": {
    "id": "52wuvTVJXoE6"
   },
   "source": [
    "## Training"
   ]
  },
  {
   "cell_type": "code",
   "execution_count": null,
   "id": "79e0831d",
   "metadata": {
    "id": "Au_juC7ON3V4"
   },
   "outputs": [],
   "source": [
    "print(\"Begin training.\")\n",
    "\n",
    "early_stopping = EarlyStopping(patience = 7, verbose=True)\n",
    "for e in tqdm(range(1, EPOCHS+1)):\n",
    "\n",
    "    # TRAINING\n",
    "    train_epoch_loss = 0\n",
    "    train_epoch_acc = 0\n",
    "    \n",
    "    model.train()\n",
    "\n",
    "    for X_train_batch, y_train_batch in train_loader:\n",
    "        X_train_batch, y_train_batch = X_train_batch.to(device), y_train_batch.to(device)\n",
    "        optimizer.zero_grad()\n",
    "        \n",
    "        y_train_pred = model(X_train_batch)\n",
    "        \n",
    "        train_loss = criterion(y_train_pred, y_train_batch.unsqueeze(1).type_as(y_train_pred))\n",
    "        train_acc = binary_acc(y_train_pred, y_train_batch.unsqueeze(1))\n",
    "        \n",
    "        train_loss.backward()\n",
    "        optimizer.step()\n",
    "        \n",
    "        train_epoch_loss += train_loss.item()\n",
    "        train_epoch_acc += train_acc.item()\n",
    "        \n",
    "        \n",
    "    # VALIDATION    \n",
    "    \n",
    "    with torch.no_grad():\n",
    "        \n",
    "        val_epoch_loss = 0\n",
    "        val_epoch_acc = 0\n",
    "        \n",
    "        model.eval()\n",
    "        for X_val_batch, y_val_batch in val_loader:\n",
    "          X_val_batch, y_val_batch = X_val_batch.to(device), y_val_batch.to(device)\n",
    "          \n",
    "          y_val_pred = model(X_val_batch)\n",
    "                      \n",
    "          val_loss = criterion(y_val_pred, y_val_batch.unsqueeze(1).type_as(y_val_pred))\n",
    "          val_acc = binary_acc(y_val_pred, y_val_batch.unsqueeze(1))\n",
    "          \n",
    "          val_epoch_loss += val_loss.item()\n",
    "          val_epoch_acc += val_acc.item()\n",
    "\n",
    "\n",
    "        \n",
    "        loss_stats['train'].append(train_epoch_loss/len(train_loader))\n",
    "        loss_stats['val'].append(val_epoch_loss/len(val_loader))\n",
    "        accuracy_stats['train'].append(train_epoch_acc/len(train_loader))\n",
    "        accuracy_stats['val'].append(val_epoch_acc/len(val_loader))\n",
    "                              \n",
    "\n",
    "        print(f'Epoch {e+0:03}: | Train Loss: {train_epoch_loss/len(train_loader):.5f} | Val Loss: {val_epoch_loss/len(val_loader):.5f} | Train Acc: {train_epoch_acc/len(train_loader):.3f}| Val Acc: {val_epoch_acc/len(val_loader):.3f}')\n",
    "\n",
    "    early_stopping(val_epoch_loss/len(val_loader), model)\n",
    "    \n",
    "    if early_stopping.early_stop:\n",
    "        print(\"Early stopping\")\n",
    "        break  "
   ]
  },
  {
   "cell_type": "code",
   "execution_count": null,
   "id": "f94eb713",
   "metadata": {
    "colab": {
     "base_uri": "https://localhost:8080/",
     "height": 420
    },
    "id": "E-lX1EO2szXs",
    "outputId": "a1e6d66d-c83f-4ed0-b214-69dec9eac841"
   },
   "outputs": [
    {
     "name": "stdout",
     "output_type": "stream",
     "text": [
      "\n"
     ]
    },
    {
     "data": {
      "text/plain": [
       "Text(0.5, 1.0, 'Train-Validation Loss/Epoch')"
      ]
     },
     "execution_count": 50,
     "metadata": {
      "tags": []
     },
     "output_type": "execute_result"
    },
    {
     "data": {
      "image/png": "[encoded data removed]",
      "text/plain": [
       "<Figure size 1440x504 with 2 Axes>"
      ]
     },
     "metadata": {
      "tags": []
     },
     "output_type": "display_data"
    }
   ],
   "source": [
    "# Create dataframes\n",
    "train_val_acc_df = pd.DataFrame.from_dict(accuracy_stats).reset_index().melt(id_vars=['index']).rename(columns={\"index\":\"epochs\"})\n",
    "train_val_loss_df = pd.DataFrame.from_dict(loss_stats).reset_index().melt(id_vars=['index']).rename(columns={\"index\":\"epochs\"})\n",
    "\n",
    "# Plot the dataframes\n",
    "fig, axes = plt.subplots(nrows=1, ncols=2, figsize=(20,7))\n",
    "sns.lineplot(data=train_val_acc_df,\n",
    "             x = \"epochs\", y=\"value\", hue = 'variable',\n",
    "             ax=axes[0]).set_title('Train-Validation Accuracy/Epoch')\n",
    "\n",
    "sns.lineplot(data=train_val_loss_df,\n",
    "             x = \"epochs\", y=\"value\", hue = 'variable',\n",
    "             ax=axes[1]).set_title('Train-Validation Loss/Epoch')"
   ]
  },
  {
   "cell_type": "code",
   "execution_count": null,
   "id": "e19cffd2",
   "metadata": {
    "id": "BpS1MLjfZxlQ"
   },
   "outputs": [],
   "source": [
    "y_pred_list = []\n",
    "model.eval()\n",
    "with torch.no_grad():\n",
    "    for X_batch in test_loader:\n",
    "        X_batch = X_batch[0].to(device)\n",
    "        y_test_pred = model(X_batch)\n",
    "        y_test_pred = torch.sigmoid(y_test_pred)\n",
    "        y_pred_tag = torch.round(y_test_pred)\n",
    "        y_pred_list.append(y_pred_tag.cpu().numpy())\n",
    "y_pred_list = [a.squeeze().tolist() for a in y_pred_list]"
   ]
  },
  {
   "cell_type": "code",
   "execution_count": null,
   "id": "61e1678d",
   "metadata": {
    "colab": {
     "base_uri": "https://localhost:8080/"
    },
    "id": "rbhaufYAHY9I",
    "outputId": "519a9b4f-9e97-4e5e-9511-0bdcf84b1abd"
   },
   "outputs": [
    {
     "name": "stdout",
     "output_type": "stream",
     "text": [
      "              precision    recall  f1-score   support\n",
      "\n",
      "        real       0.63      0.60      0.62       120\n",
      "      attack       0.90      0.91      0.91       480\n",
      "\n",
      "    accuracy                           0.85       600\n",
      "   macro avg       0.77      0.76      0.76       600\n",
      "weighted avg       0.85      0.85      0.85       600\n",
      "\n"
     ]
    },
    {
     "data": {
      "text/plain": [
       "array([[ 72,  48],\n",
       "       [ 42, 438]])"
      ]
     },
     "execution_count": 52,
     "metadata": {
      "tags": []
     },
     "output_type": "execute_result"
    }
   ],
   "source": [
    "#Real vs All -- 18 Fitur\n",
    "print(classification_report(y_test, y_pred_list, target_names=['real', 'attack']))\n",
    "np.array(confusion_matrix(y_test, y_pred_list))"
   ]
  },
  {
   "cell_type": "code",
   "execution_count": null,
   "id": "47cb3068",
   "metadata": {
    "colab": {
     "base_uri": "https://localhost:8080/",
     "height": 332
    },
    "id": "hf9Ayutl8msZ",
    "outputId": "79c240af-98dd-4205-e1cf-7a392144d5ae"
   },
   "outputs": [
    {
     "data": {
      "text/plain": [
       "Text(0.5, 1.0, 'Multilayer perceptron 10 Fitur')"
      ]
     },
     "execution_count": 53,
     "metadata": {
      "tags": []
     },
     "output_type": "execute_result"
    },
    {
     "data": {
      "image/png": "[encoded data removed]",
      "text/plain": [
       "<Figure size 432x288 with 1 Axes>"
      ]
     },
     "metadata": {
      "tags": []
     },
     "output_type": "display_data"
    }
   ],
   "source": [
    "ax= plt.subplot()\n",
    "sns.set(font_scale=1.4)\n",
    "sns.heatmap(confusion_matrix(y_test, y_pred_list),\n",
    "            annot=True, fmt=\"d\", cbar =False, cmap=\"YlGnBu\")\n",
    "\n",
    "tl = 'Multilayer perceptron 10 Fitur'\n",
    "ax.set_xlabel('Predicted labels')\n",
    "ax.set_ylabel('True labels')\n",
    "\n",
    "ax.xaxis.set_ticklabels(['real', 'attack'])\n",
    "ax.yaxis.set_ticklabels(['real', 'attack'])\n",
    "plt.title(tl)\n",
    "\n",
    "plt.savefig(f\"{tl}.png\")\n",
    "files.download(f\"{tl}.png\")"
   ]
  },
  {
   "cell_type": "markdown",
   "id": "04bc65a0",
   "metadata": {
    "id": "5fsvbW3nISk9"
   },
   "source": [
    "## Error Analysis"
   ]
  },
  {
   "cell_type": "code",
   "execution_count": null,
   "id": "93919b2e",
   "metadata": {
    "id": "LTFoFGRqVp1-"
   },
   "outputs": [],
   "source": [
    "diff_list, diff_index = [], []\n",
    "for i in range(len(y_test)):\n",
    "  if y_test[i] == y_pred_list[i]: \n",
    "    diff_list.append(True)\n",
    "  else:\n",
    "    diff_index.append(i)\n",
    "    diff_list.append(False)"
   ]
  },
  {
   "cell_type": "code",
   "execution_count": null,
   "id": "858509b2",
   "metadata": {
    "id": "ya9Ddk1ODBSZ"
   },
   "outputs": [],
   "source": [
    "df_err = df_test.iloc[diff_index, :]"
   ]
  },
  {
   "cell_type": "code",
   "execution_count": null,
   "id": "8f0628bc",
   "metadata": {
    "id": "1V8lDlW4G575"
   },
   "outputs": [],
   "source": [
    "df_error = df.iloc[df_err.index,:]"
   ]
  },
  {
   "cell_type": "code",
   "execution_count": null,
   "id": "e7de3e00",
   "metadata": {
    "id": "5yboB8cCSxli"
   },
   "outputs": [],
   "source": [
    "df_error.to_csv(\"error_realvsall_bysession.csv\")"
   ]
  }
 ],
 "metadata": {
  "accelerator": "GPU",
  "colab": {
   "collapsed_sections": [],
   "name": "Classification_MLP.ipynb",
   "provenance": []
  },
  "kernelspec": {
   "display_name": "Python 3",
   "language": "python",
   "name": "python3"
  },
  "language_info": {
   "codemirror_mode": {
    "name": "ipython",
    "version": 3
   },
   "file_extension": ".py",
   "mimetype": "text/x-python",
   "name": "python",
   "nbconvert_exporter": "python",
   "pygments_lexer": "ipython3",
   "version": "3.8.3"
  },
  "toc": {
   "base_numbering": 1,
   "nav_menu": {},
   "number_sections": true,
   "sideBar": true,
   "skip_h1_title": false,
   "title_cell": "Table of Contents",
   "title_sidebar": "Contents",
   "toc_cell": false,
   "toc_position": {},
   "toc_section_display": true,
   "toc_window_display": false
  }
 },
 "nbformat": 4,
 "nbformat_minor": 5
}
