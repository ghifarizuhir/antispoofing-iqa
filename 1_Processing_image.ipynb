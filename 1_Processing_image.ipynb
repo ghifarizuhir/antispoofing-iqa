{
 "cells": [
  {
   "cell_type": "markdown",
   "metadata": {
    "id": "sQactiFJ97d0"
   },
   "source": [
    "# Processing image\n",
    "\n",
    "Program ini dijalankan menggunakan [colab.research.google.com](https://)\n",
    "\n",
    "Program ini untuk memproses file gambar, untuk input yang dibutuhkan adalah path folder yang akan diproses, isi dari path merupakan kumpulan video yang akan diproses. \n",
    "\n",
    "Hasil dari program ini terdapat **2 output** : yaitu gambar yang diambil 1 frame dari keseluruhan video dan 1 gambar yang dilakukan face crop\n",
    "\n",
    "Versi library yang digunakan saat pengerjaan\n",
    "\n",
    "> opencv : versi 4.1.2\n",
    "\n",
    "> numpy : versi 1.19.5\n",
    "\n",
    "> matplotlib : versi 3.2.2\n"
   ]
  },
  {
   "cell_type": "markdown",
   "metadata": {
    "id": "GECKeUi7-CRz"
   },
   "source": [
    "## Import Library"
   ]
  },
  {
   "cell_type": "code",
   "execution_count": null,
   "metadata": {
    "id": "xJTwCuEyKW0t"
   },
   "outputs": [],
   "source": [
    "from google.colab import drive\n",
    "drive.mount('/content/drive')"
   ]
  },
  {
   "cell_type": "code",
   "execution_count": null,
   "metadata": {
    "id": "mrpGL1uiIMLi"
   },
   "outputs": [],
   "source": [
    "import cv2\n",
    "import numpy as np\n",
    "import matplotlib.pyplot as plt\n",
    "from google.colab import files\n",
    "import matplotlib\n",
    "\n",
    "import os"
   ]
  },
  {
   "cell_type": "code",
   "execution_count": null,
   "metadata": {
    "id": "sO5henYom5Q9"
   },
   "outputs": [],
   "source": [
    "!pip install --upgrade gupload\n",
    "\n",
    "from pydrive.auth import GoogleAuth\n",
    "from google.colab import auth\n",
    "\n",
    "auth.authenticate_user()"
   ]
  },
  {
   "cell_type": "markdown",
   "metadata": {
    "id": "TcmYrpUc-H61"
   },
   "source": [
    "## Main"
   ]
  },
  {
   "cell_type": "code",
   "execution_count": null,
   "metadata": {
    "id": "LIkP-2IQ5cet"
   },
   "outputs": [],
   "source": [
    "def video_to_frame(path):\n",
    "  \n",
    "  face_cascade = cv2.CascadeClassifier(cv2.data.haarcascades+'haarcascade_frontalface_alt2.xml')\n",
    "  \n",
    "  txt_entries = sorted(os.listdir(path))\n",
    "  read_image = []\n",
    "  \n",
    "  for i in txt_entries:\n",
    "    vidcap = cv2.VideoCapture(f\"{path}{i}\")\n",
    "    count = 0\n",
    "    success, image = vidcap.read()\n",
    "     \n",
    "    # menentukan frame yang diambil secara acak\n",
    "    frame_img = np.random.randint(150)  \n",
    "\n",
    "    while success:\n",
    "      if count == frame_img:\n",
    "        \n",
    "        cv2.imwrite(f'frame_{i}.jpg', image)\n",
    "\n",
    "        gray = cv2.cvtColor(image, cv2.COLOR_BGR2GRAY)\n",
    "        faces = face_cascade.detectMultiScale(gray, 1.1, 4)\n",
    "        \n",
    "        for (x, y, w, h) in faces:\n",
    "            faces = image[y:y + h, x:x + w]\n",
    "            cv2.imwrite(f'faces_{i}.jpg', faces)\n",
    "        \n",
    "        break\n",
    "      success, image = vidcap.read()\n",
    "      count += 1"
   ]
  },
  {
   "cell_type": "code",
   "execution_count": null,
   "metadata": {
    "id": "zhiaZafAt8D9"
   },
   "outputs": [],
   "source": [
    "video_to_frame(\"/content/drive/dataset/\")"
   ]
  },
  {
   "cell_type": "code",
   "execution_count": null,
   "metadata": {
    "id": "23g9VmpjOrHa"
   },
   "outputs": [],
   "source": [
    "# copy link folder pada google drive untuk menyimpan hasil output\n",
    "# https://drive.google.com/drive/folders/1hHufEfsdasdPHcPfqZ_PZiEIhal?usp=sharing\n",
    "\n",
    "\n",
    "!gupload --to '1hHufEfsdasdPHcPfqZ_PZiEIhal' *.jpg"
   ]
  }
 ],
 "metadata": {
  "colab": {
   "collapsed_sections": [],
   "name": "Processing_image.ipynb",
   "provenance": []
  },
  "kernelspec": {
   "display_name": "Python 3",
   "language": "python",
   "name": "python3"
  },
  "language_info": {
   "codemirror_mode": {
    "name": "ipython",
    "version": 3
   },
   "file_extension": ".py",
   "mimetype": "text/x-python",
   "name": "python",
   "nbconvert_exporter": "python",
   "pygments_lexer": "ipython3",
   "version": "3.8.3"
  },
  "toc": {
   "base_numbering": 1,
   "nav_menu": {},
   "number_sections": true,
   "sideBar": true,
   "skip_h1_title": false,
   "title_cell": "Table of Contents",
   "title_sidebar": "Contents",
   "toc_cell": false,
   "toc_position": {},
   "toc_section_display": true,
   "toc_window_display": false
  }
 },
 "nbformat": 4,
 "nbformat_minor": 1
}
